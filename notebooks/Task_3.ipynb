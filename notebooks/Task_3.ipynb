{
  "nbformat": 4,
  "nbformat_minor": 0,
  "metadata": {
    "colab": {
      "provenance": []
    },
    "kernelspec": {
      "name": "python3",
      "display_name": "Python 3"
    },
    "language_info": {
      "name": "python"
    }
  },
  "cells": [
    {
      "cell_type": "code",
      "execution_count": 2,
      "metadata": {
        "colab": {
          "base_uri": "https://localhost:8080/"
        },
        "id": "_nQkpdcHlKkb",
        "outputId": "8f3a41a9-b064-4631-d03e-84472a1332b3"
      },
      "outputs": [
        {
          "output_type": "stream",
          "name": "stdout",
          "text": [
            "Dataset loaded successfully. First 5 rows:\n",
            "     id  year_birth      education marital_status   income  kidhome  teenhome  \\\n",
            "0  5524        1957       Graduate         Single  58138.0        0         0   \n",
            "1  2174        1954       Graduate         Single  46344.0        1         1   \n",
            "2  4141        1965       Graduate       Together  71613.0        0         0   \n",
            "3  6182        1984       Graduate       Together  26646.0        1         0   \n",
            "4  5324        1981  Post-Graduate        Married  58293.0        1         0   \n",
            "\n",
            "  dt_customer  recency  mnt_wines  ...  numwebvisitsmonth  acceptedcmp3  \\\n",
            "0  2012-09-04       58        635  ...                  7             0   \n",
            "1  2014-03-08       38         11  ...                  5             0   \n",
            "2  2013-08-21       26        426  ...                  4             0   \n",
            "3  2014-02-10       26         11  ...                  6             0   \n",
            "4  2014-01-19       94        173  ...                  5             0   \n",
            "\n",
            "   acceptedcmp4  acceptedcmp5  acceptedcmp1  acceptedcmp2  complain  \\\n",
            "0             0             0             0             0         0   \n",
            "1             0             0             0             0         0   \n",
            "2             0             0             0             0         0   \n",
            "3             0             0             0             0         0   \n",
            "4             0             0             0             0         0   \n",
            "\n",
            "   z_costcontact  z_revenue  response  \n",
            "0              3         11         1  \n",
            "1              3         11         0  \n",
            "2              3         11         0  \n",
            "3              3         11         0  \n",
            "4              3         11         0  \n",
            "\n",
            "[5 rows x 29 columns]\n"
          ]
        }
      ],
      "source": [
        "# Import necessary libraries\n",
        "import pandas as pd\n",
        "from sklearn.model_selection import train_test_split\n",
        "from sklearn.linear_model import LogisticRegression\n",
        "from sklearn.metrics import accuracy_score, classification_report, confusion_matrix\n",
        "import seaborn as sns\n",
        "import matplotlib.pyplot as plt\n",
        "\n",
        "# Load the cleaned dataset\n",
        "df = pd.read_csv('cleaned_customer_data.csv')\n",
        "\n",
        "# Convert 'dt_customer' to datetime objects for feature engineering\n",
        "df['dt_customer'] = pd.to_datetime(df['dt_customer'])\n",
        "\n",
        "# Display the first few rows to confirm it's loaded correctly\n",
        "print(\"Dataset loaded successfully. First 5 rows:\")\n",
        "print(df.head())"
      ]
    },
    {
      "cell_type": "code",
      "source": [
        "# --- Feature Engineering ---\n",
        "\n",
        "# Calculate customer tenure in days\n",
        "# We'll use the most recent date in the data as the 'today' reference point\n",
        "latest_date = df['dt_customer'].max()\n",
        "df['customer_tenure'] = (latest_date - df['dt_customer']).dt.days\n",
        "\n",
        "# --- Data Preparation ---\n",
        "\n",
        "# Convert categorical variables into numerical using one-hot encoding\n",
        "df_encoded = pd.get_dummies(df, columns=['education', 'marital_status'], drop_first=True)\n",
        "\n",
        "# Define our target variable (y) and features (X)\n",
        "y = df_encoded['response']\n",
        "\n",
        "# Drop the original non-numerical columns and the target variable to create our feature set\n",
        "X = df_encoded.drop(columns=['id', 'dt_customer', 'response'])\n",
        "\n",
        "print(\"\\nData prepared for modeling. Features (X) and target (y) are defined.\")\n",
        "print(\"Shape of our features (X):\", X.shape)\n",
        "print(\"Shape of our target (y):\", y.shape)"
      ],
      "metadata": {
        "colab": {
          "base_uri": "https://localhost:8080/"
        },
        "id": "qPjHWlfrlgxU",
        "outputId": "e934d322-5450-4bfb-e373-bacad9acae89"
      },
      "execution_count": 3,
      "outputs": [
        {
          "output_type": "stream",
          "name": "stdout",
          "text": [
            "\n",
            "Data prepared for modeling. Features (X) and target (y) are defined.\n",
            "Shape of our features (X): (2240, 34)\n",
            "Shape of our target (y): (2240,)\n"
          ]
        }
      ]
    },
    {
      "cell_type": "code",
      "source": [
        "# Split the data into 80% for training and 20% for testing\n",
        "X_train, X_test, y_train, y_test = train_test_split(X, y, test_size=0.2, random_state=42, stratify=y)\n",
        "\n",
        "print(\"Data split successfully.\")\n",
        "print(\"Training set size:\", X_train.shape[0])\n",
        "print(\"Testing set size:\", X_test.shape[0])"
      ],
      "metadata": {
        "colab": {
          "base_uri": "https://localhost:8080/"
        },
        "id": "LMH0w8ixlmPr",
        "outputId": "967e1225-acf1-4cf8-8ba7-048933bf488d"
      },
      "execution_count": 4,
      "outputs": [
        {
          "output_type": "stream",
          "name": "stdout",
          "text": [
            "Data split successfully.\n",
            "Training set size: 1792\n",
            "Testing set size: 448\n"
          ]
        }
      ]
    },
    {
      "cell_type": "code",
      "source": [
        "# Initialize the Logistic Regression model\n",
        "model = LogisticRegression(max_iter=1000) # Increased max_iter for convergence\n",
        "\n",
        "# Train the model on the training data\n",
        "model.fit(X_train, y_train)\n",
        "\n",
        "# Make predictions on the test data\n",
        "y_pred = model.predict(X_test)\n",
        "\n",
        "print(\"Model trained and predictions made successfully.\")"
      ],
      "metadata": {
        "colab": {
          "base_uri": "https://localhost:8080/"
        },
        "id": "cJ4p92SGlpk1",
        "outputId": "f34c8408-a08b-4174-f476-a585f43f0da7"
      },
      "execution_count": 5,
      "outputs": [
        {
          "output_type": "stream",
          "name": "stdout",
          "text": [
            "Model trained and predictions made successfully.\n"
          ]
        },
        {
          "output_type": "stream",
          "name": "stderr",
          "text": [
            "/usr/local/lib/python3.12/dist-packages/sklearn/linear_model/_logistic.py:465: ConvergenceWarning: lbfgs failed to converge (status=1):\n",
            "STOP: TOTAL NO. OF ITERATIONS REACHED LIMIT.\n",
            "\n",
            "Increase the number of iterations (max_iter) or scale the data as shown in:\n",
            "    https://scikit-learn.org/stable/modules/preprocessing.html\n",
            "Please also refer to the documentation for alternative solver options:\n",
            "    https://scikit-learn.org/stable/modules/linear_model.html#logistic-regression\n",
            "  n_iter_i = _check_optimize_result(\n"
          ]
        }
      ]
    },
    {
      "cell_type": "code",
      "source": [
        "# --- Model Evaluation ---\n",
        "\n",
        "# 1. Accuracy Score\n",
        "accuracy = accuracy_score(y_test, y_pred)\n",
        "print(f\"Model Accuracy: {accuracy * 100:.2f}%\")\n",
        "\n",
        "# 2. Classification Report\n",
        "print(\"\\nClassification Report:\")\n",
        "print(classification_report(y_test, y_pred))\n",
        "\n",
        "# 3. Confusion Matrix\n",
        "print(\"\\nConfusion Matrix:\")\n",
        "cm = confusion_matrix(y_test, y_pred)\n",
        "plt.figure(figsize=(8, 6))\n",
        "sns.heatmap(cm, annot=True, fmt='d', cmap='Blues', xticklabels=['No Response', 'Response'], yticklabels=['No Response', 'Response'])\n",
        "plt.title('Confusion Matrix')\n",
        "plt.ylabel('Actual')\n",
        "plt.xlabel('Predicted')\n",
        "plt.show()"
      ],
      "metadata": {
        "colab": {
          "base_uri": "https://localhost:8080/",
          "height": 817
        },
        "id": "_k5DhMXslsMg",
        "outputId": "72740fdf-fa1f-4081-93dc-06ace26d58d2"
      },
      "execution_count": 6,
      "outputs": [
        {
          "output_type": "stream",
          "name": "stdout",
          "text": [
            "Model Accuracy: 85.94%\n",
            "\n",
            "Classification Report:\n",
            "              precision    recall  f1-score   support\n",
            "\n",
            "           0       0.87      0.98      0.92       381\n",
            "           1       0.59      0.19      0.29        67\n",
            "\n",
            "    accuracy                           0.86       448\n",
            "   macro avg       0.73      0.59      0.61       448\n",
            "weighted avg       0.83      0.86      0.83       448\n",
            "\n",
            "\n",
            "Confusion Matrix:\n"
          ]
        },
        {
          "output_type": "display_data",
          "data": {
            "text/plain": [
              "<Figure size 800x600 with 2 Axes>"
            ],
            "image/png": "[encoded data removed]"
          },
          "metadata": {}
        }
      ]
    },
    {
      "cell_type": "code",
      "source": [],
      "metadata": {
        "id": "WRkEzEnblxOh"
      },
      "execution_count": null,
      "outputs": []
    }
  ]
}